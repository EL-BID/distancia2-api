{
 "cells": [
  {
   "cell_type": "code",
   "execution_count": 5,
   "metadata": {},
   "outputs": [],
   "source": [
    "import redis\n",
    "from redis.exceptions import TimeoutError\n",
    "import cv2\n",
    "import numpy as np\n",
    "\n",
    "file_path = '../videos/20_04_2020 TERMINAL - G11.mp4'\n",
    "img_key = 'sampleA'\n",
    "\n",
    "client = redis.StrictRedis(host='localhost',\n",
    "    db=0, socket_connect_timeout=1)\n",
    "\n",
    "try:\n",
    "    client.ping()\n",
    "except TimeoutError:\n",
    "    print('No hay conexion')"
   ]
  },
  {
   "cell_type": "code",
   "execution_count": 6,
   "metadata": {},
   "outputs": [
    {
     "name": "stdout",
     "output_type": "stream",
     "text": [
      "No se pueden leer mas fotogramas\n"
     ]
    }
   ],
   "source": [
    "camera = cv2.VideoCapture(file_path)\n",
    "\n",
    "if not camera.isOpened():\n",
    "    message = 'No se puede leer el archivo ' + file_path\n",
    "    print(message)\n",
    "\n",
    "while True:\n",
    "    successful_read, raw_frame = camera.read()\n",
    "\n",
    "    if not successful_read:\n",
    "        message = 'No se pueden leer mas fotogramas'\n",
    "        print(message)\n",
    "        break\n",
    "\n",
    "    successful_encode, jpeg_frame = cv2.imencode('.jpg', raw_frame)\n",
    "\n",
    "    if not successful_encode:\n",
    "        message = 'No se puede codificar el fotograma'\n",
    "        raise Exception(message)\n",
    "\n",
    "    client.set(img_key, jpeg_frame.tobytes())"
   ]
  },
  {
   "cell_type": "code",
   "execution_count": null,
   "metadata": {},
   "outputs": [],
   "source": []
  },
  {
   "cell_type": "code",
   "execution_count": 1,
   "metadata": {},
   "outputs": [],
   "source": [
    "import os\n",
    "from cams.models import Channel\n",
    "os.environ[\"DJANGO_ALLOW_ASYNC_UNSAFE\"] = \"true\"\n",
    "\n",
    "# Channel.objects.all()"
   ]
  },
  {
   "cell_type": "code",
   "execution_count": 35,
   "metadata": {
    "jupyter": {
     "source_hidden": true
    }
   },
   "outputs": [],
   "source": [
    "def get_queryset(camera_interface, cameras_number):\n",
    "    queryset = Channel.objects.filter(camera_interface=camera_interface, state=Channel.STATE_INACTIVE)\n",
    "    channels_available_count = queryset.count()\n",
    "\n",
    "    if not channels_available_count:\n",
    "        print('No hay camaras disponibles para analizar.')\n",
    "        return queryset\n",
    "\n",
    "    if channels_available_count < cameras_number:\n",
    "        print(f'Solo se analizaran {channels_available_count} camaras disponibles.')\n",
    "        cameras_locked = channels_available_count\n",
    "\n",
    "    else:\n",
    "        cameras_locked = cameras_number\n",
    "    \n",
    "    new_qs = []\n",
    "    for channel in queryset[:cameras_locked]:\n",
    "        channel.state = Channel.STATE_LOCKED\n",
    "        channel.save(update_fields=['state'])\n",
    "        new_qs.append(channel)\n",
    "\n",
    "    return new_qs\n",
    "        "
   ]
  },
  {
   "cell_type": "code",
   "execution_count": 2,
   "metadata": {},
   "outputs": [
    {
     "name": "stderr",
     "output_type": "stream",
     "text": [
      "Will be analized 1 cameras availables.\n"
     ]
    }
   ],
   "source": [
    "camera_interface = Channel.REDIS_INTERFACE\n",
    "server_name = 'virtualdev'\n",
    "cameras_number = 4\n",
    "# queryset = Channel.objects.filter(camera_interface=camera_interface, state=Channel.STATE_INACTIVE)\n",
    "# channels_locked = get_queryset(camera_interface, cameras_number)\n",
    "channels_locked = Channel.objects.get_and_lock(camera_interface, cameras_number)"
   ]
  },
  {
   "cell_type": "code",
   "execution_count": 3,
   "metadata": {},
   "outputs": [
    {
     "data": {
      "text/plain": [
       "[True]"
      ]
     },
     "execution_count": 3,
     "metadata": {},
     "output_type": "execute_result"
    }
   ],
   "source": [
    "process_id = server_name + '.thread01'\n",
    "[channel.attach(process_id) for channel in channels_locked]"
   ]
  },
  {
   "cell_type": "code",
   "execution_count": 13,
   "metadata": {},
   "outputs": [],
   "source": [
    "cameras_locked = len(queryset)"
   ]
  },
  {
   "cell_type": "code",
   "execution_count": 14,
   "metadata": {},
   "outputs": [
    {
     "data": {
      "text/plain": [
       "[<Channel: Terminal>]"
      ]
     },
     "execution_count": 14,
     "metadata": {},
     "output_type": "execute_result"
    }
   ],
   "source": [
    "queryset[:cameras_locked]"
   ]
  }
 ],
 "metadata": {
  "kernelspec": {
   "display_name": "Django Shell-Plus",
   "language": "python",
   "name": "django_extensions"
  },
  "language_info": {
   "codemirror_mode": {
    "name": "ipython",
    "version": 3
   },
   "file_extension": ".py",
   "mimetype": "text/x-python",
   "name": "python",
   "nbconvert_exporter": "python",
   "pygments_lexer": "ipython3",
   "version": "3.7.7"
  }
 },
 "nbformat": 4,
 "nbformat_minor": 4
}
